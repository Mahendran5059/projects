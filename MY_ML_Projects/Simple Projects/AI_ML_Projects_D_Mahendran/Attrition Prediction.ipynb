{
 "cells": [
  {
   "cell_type": "markdown",
   "id": "3bc2b1fa",
   "metadata": {},
   "source": [
    "###### Importing neccessary libraries and load dataset"
   ]
  },
  {
   "cell_type": "code",
   "execution_count": 1,
   "id": "8c247c68",
   "metadata": {},
   "outputs": [
    {
     "data": {
      "text/html": [
       "<div>\n",
       "<style scoped>\n",
       "    .dataframe tbody tr th:only-of-type {\n",
       "        vertical-align: middle;\n",
       "    }\n",
       "\n",
       "    .dataframe tbody tr th {\n",
       "        vertical-align: top;\n",
       "    }\n",
       "\n",
       "    .dataframe thead th {\n",
       "        text-align: right;\n",
       "    }\n",
       "</style>\n",
       "<table border=\"1\" class=\"dataframe\">\n",
       "  <thead>\n",
       "    <tr style=\"text-align: right;\">\n",
       "      <th></th>\n",
       "      <th>satisfaction_level</th>\n",
       "      <th>last_evaluation</th>\n",
       "      <th>number_project</th>\n",
       "      <th>average_montly_hours</th>\n",
       "      <th>time_spend_company</th>\n",
       "      <th>Work_accident</th>\n",
       "      <th>left</th>\n",
       "      <th>promotion_last_5years</th>\n",
       "      <th>Sales_Occured</th>\n",
       "      <th>salary</th>\n",
       "    </tr>\n",
       "  </thead>\n",
       "  <tbody>\n",
       "    <tr>\n",
       "      <th>0</th>\n",
       "      <td>0.38</td>\n",
       "      <td>0.53</td>\n",
       "      <td>2</td>\n",
       "      <td>157</td>\n",
       "      <td>3</td>\n",
       "      <td>0</td>\n",
       "      <td>1</td>\n",
       "      <td>0</td>\n",
       "      <td>sales</td>\n",
       "      <td>low</td>\n",
       "    </tr>\n",
       "    <tr>\n",
       "      <th>1</th>\n",
       "      <td>0.80</td>\n",
       "      <td>0.86</td>\n",
       "      <td>5</td>\n",
       "      <td>262</td>\n",
       "      <td>6</td>\n",
       "      <td>0</td>\n",
       "      <td>1</td>\n",
       "      <td>0</td>\n",
       "      <td>sales</td>\n",
       "      <td>medium</td>\n",
       "    </tr>\n",
       "    <tr>\n",
       "      <th>2</th>\n",
       "      <td>0.11</td>\n",
       "      <td>0.88</td>\n",
       "      <td>7</td>\n",
       "      <td>272</td>\n",
       "      <td>4</td>\n",
       "      <td>0</td>\n",
       "      <td>1</td>\n",
       "      <td>0</td>\n",
       "      <td>sales</td>\n",
       "      <td>medium</td>\n",
       "    </tr>\n",
       "    <tr>\n",
       "      <th>3</th>\n",
       "      <td>0.72</td>\n",
       "      <td>0.87</td>\n",
       "      <td>5</td>\n",
       "      <td>223</td>\n",
       "      <td>5</td>\n",
       "      <td>0</td>\n",
       "      <td>1</td>\n",
       "      <td>0</td>\n",
       "      <td>sales</td>\n",
       "      <td>low</td>\n",
       "    </tr>\n",
       "    <tr>\n",
       "      <th>4</th>\n",
       "      <td>0.37</td>\n",
       "      <td>0.52</td>\n",
       "      <td>2</td>\n",
       "      <td>159</td>\n",
       "      <td>3</td>\n",
       "      <td>0</td>\n",
       "      <td>1</td>\n",
       "      <td>0</td>\n",
       "      <td>sales</td>\n",
       "      <td>low</td>\n",
       "    </tr>\n",
       "  </tbody>\n",
       "</table>\n",
       "</div>"
      ],
      "text/plain": [
       "   satisfaction_level  last_evaluation  number_project  average_montly_hours  \\\n",
       "0                0.38             0.53               2                   157   \n",
       "1                0.80             0.86               5                   262   \n",
       "2                0.11             0.88               7                   272   \n",
       "3                0.72             0.87               5                   223   \n",
       "4                0.37             0.52               2                   159   \n",
       "\n",
       "   time_spend_company  Work_accident  left  promotion_last_5years  \\\n",
       "0                   3              0     1                      0   \n",
       "1                   6              0     1                      0   \n",
       "2                   4              0     1                      0   \n",
       "3                   5              0     1                      0   \n",
       "4                   3              0     1                      0   \n",
       "\n",
       "  Sales_Occured  salary  \n",
       "0         sales     low  \n",
       "1         sales  medium  \n",
       "2         sales  medium  \n",
       "3         sales     low  \n",
       "4         sales     low  "
      ]
     },
     "execution_count": 1,
     "metadata": {},
     "output_type": "execute_result"
    }
   ],
   "source": [
    "import pandas as pd\n",
    "import numpy as np\n",
    "import matplotlib.pyplot as plt\n",
    "import seaborn as sns\n",
    "data=pd.read_csv(\"E:/AI &ML_datasets/ML_Datasets/Company Attrition Data.csv\")\n",
    "data.head()"
   ]
  },
  {
   "cell_type": "code",
   "execution_count": 2,
   "id": "f562e4aa",
   "metadata": {},
   "outputs": [
    {
     "name": "stdout",
     "output_type": "stream",
     "text": [
      "<class 'pandas.core.frame.DataFrame'>\n",
      "RangeIndex: 14999 entries, 0 to 14998\n",
      "Data columns (total 10 columns):\n",
      " #   Column                 Non-Null Count  Dtype  \n",
      "---  ------                 --------------  -----  \n",
      " 0   satisfaction_level     14999 non-null  float64\n",
      " 1   last_evaluation        14999 non-null  float64\n",
      " 2   number_project         14999 non-null  int64  \n",
      " 3   average_montly_hours   14999 non-null  int64  \n",
      " 4   time_spend_company     14999 non-null  int64  \n",
      " 5   Work_accident          14999 non-null  int64  \n",
      " 6   left                   14999 non-null  int64  \n",
      " 7   promotion_last_5years  14999 non-null  int64  \n",
      " 8   Sales_Occured          14999 non-null  object \n",
      " 9   salary                 14999 non-null  object \n",
      "dtypes: float64(2), int64(6), object(2)\n",
      "memory usage: 1.1+ MB\n"
     ]
    }
   ],
   "source": [
    "data.info()"
   ]
  },
  {
   "cell_type": "code",
   "execution_count": 3,
   "id": "15196953",
   "metadata": {},
   "outputs": [
    {
     "data": {
      "text/plain": [
       "(14999, 10)"
      ]
     },
     "execution_count": 3,
     "metadata": {},
     "output_type": "execute_result"
    }
   ],
   "source": [
    "data.shape"
   ]
  },
  {
   "cell_type": "markdown",
   "id": "db17c0d8",
   "metadata": {},
   "source": [
    "###### checking distinct values in each columns"
   ]
  },
  {
   "cell_type": "code",
   "execution_count": 4,
   "id": "aba1dee7",
   "metadata": {},
   "outputs": [
    {
     "name": "stdout",
     "output_type": "stream",
     "text": [
      "0.10    358\n",
      "0.11    335\n",
      "0.74    257\n",
      "0.77    252\n",
      "0.84    247\n",
      "       ... \n",
      "0.25     34\n",
      "0.28     31\n",
      "0.27     30\n",
      "0.26     30\n",
      "0.12     30\n",
      "Name: satisfaction_level, Length: 92, dtype: int64\n",
      "0.55    358\n",
      "0.50    353\n",
      "0.54    350\n",
      "0.51    345\n",
      "0.57    333\n",
      "       ... \n",
      "0.39     52\n",
      "0.43     50\n",
      "0.38     50\n",
      "0.44     44\n",
      "0.36     22\n",
      "Name: last_evaluation, Length: 65, dtype: int64\n",
      "4    4365\n",
      "3    4055\n",
      "5    2761\n",
      "2    2388\n",
      "6    1174\n",
      "7     256\n",
      "Name: number_project, dtype: int64\n",
      "135    153\n",
      "156    153\n",
      "149    148\n",
      "151    147\n",
      "160    136\n",
      "      ... \n",
      "297      7\n",
      "288      6\n",
      "299      6\n",
      "96       6\n",
      "303      6\n",
      "Name: average_montly_hours, Length: 215, dtype: int64\n",
      "3     6443\n",
      "2     3244\n",
      "4     2557\n",
      "5     1473\n",
      "6      718\n",
      "10     214\n",
      "7      188\n",
      "8      162\n",
      "Name: time_spend_company, dtype: int64\n",
      "0    12830\n",
      "1     2169\n",
      "Name: Work_accident, dtype: int64\n",
      "0    11428\n",
      "1     3571\n",
      "Name: left, dtype: int64\n",
      "0    14680\n",
      "1      319\n",
      "Name: promotion_last_5years, dtype: int64\n",
      "sales          4140\n",
      "technical      2720\n",
      "support        2229\n",
      "IT             1227\n",
      "product_mng     902\n",
      "marketing       858\n",
      "RandD           787\n",
      "accounting      767\n",
      "hr              739\n",
      "management      630\n",
      "Name: Sales_Occured, dtype: int64\n",
      "low       7316\n",
      "medium    6446\n",
      "high      1237\n",
      "Name: salary, dtype: int64\n"
     ]
    }
   ],
   "source": [
    "for i in data.columns:\n",
    "    print(data[i].value_counts())"
   ]
  },
  {
   "cell_type": "markdown",
   "id": "5de6adf7",
   "metadata": {},
   "source": [
    "###### checking for null values"
   ]
  },
  {
   "cell_type": "code",
   "execution_count": 5,
   "id": "e543458e",
   "metadata": {},
   "outputs": [
    {
     "data": {
      "text/plain": [
       "satisfaction_level       0\n",
       "last_evaluation          0\n",
       "number_project           0\n",
       "average_montly_hours     0\n",
       "time_spend_company       0\n",
       "Work_accident            0\n",
       "left                     0\n",
       "promotion_last_5years    0\n",
       "Sales_Occured            0\n",
       "salary                   0\n",
       "dtype: int64"
      ]
     },
     "execution_count": 5,
     "metadata": {},
     "output_type": "execute_result"
    }
   ],
   "source": [
    "data.isnull().sum()"
   ]
  },
  {
   "cell_type": "markdown",
   "id": "5e313847",
   "metadata": {},
   "source": [
    "##### Detecting and drop duplicate rows"
   ]
  },
  {
   "cell_type": "code",
   "execution_count": 6,
   "id": "5f778df2",
   "metadata": {},
   "outputs": [
    {
     "data": {
      "text/plain": [
       "3008"
      ]
     },
     "execution_count": 6,
     "metadata": {},
     "output_type": "execute_result"
    }
   ],
   "source": [
    "data.duplicated().sum()"
   ]
  },
  {
   "cell_type": "code",
   "execution_count": 7,
   "id": "2fd4a5e8",
   "metadata": {},
   "outputs": [],
   "source": [
    "data.drop_duplicates(inplace=True)"
   ]
  },
  {
   "cell_type": "code",
   "execution_count": 8,
   "id": "9cf940b7",
   "metadata": {},
   "outputs": [
    {
     "data": {
      "text/html": [
       "<div>\n",
       "<style scoped>\n",
       "    .dataframe tbody tr th:only-of-type {\n",
       "        vertical-align: middle;\n",
       "    }\n",
       "\n",
       "    .dataframe tbody tr th {\n",
       "        vertical-align: top;\n",
       "    }\n",
       "\n",
       "    .dataframe thead th {\n",
       "        text-align: right;\n",
       "    }\n",
       "</style>\n",
       "<table border=\"1\" class=\"dataframe\">\n",
       "  <thead>\n",
       "    <tr style=\"text-align: right;\">\n",
       "      <th></th>\n",
       "      <th>satisfaction_level</th>\n",
       "      <th>last_evaluation</th>\n",
       "      <th>number_project</th>\n",
       "      <th>average_montly_hours</th>\n",
       "      <th>time_spend_company</th>\n",
       "      <th>Work_accident</th>\n",
       "      <th>left</th>\n",
       "      <th>promotion_last_5years</th>\n",
       "    </tr>\n",
       "  </thead>\n",
       "  <tbody>\n",
       "    <tr>\n",
       "      <th>count</th>\n",
       "      <td>11991.000000</td>\n",
       "      <td>11991.000000</td>\n",
       "      <td>11991.000000</td>\n",
       "      <td>11991.000000</td>\n",
       "      <td>11991.000000</td>\n",
       "      <td>11991.000000</td>\n",
       "      <td>11991.000000</td>\n",
       "      <td>11991.000000</td>\n",
       "    </tr>\n",
       "    <tr>\n",
       "      <th>mean</th>\n",
       "      <td>0.629658</td>\n",
       "      <td>0.716683</td>\n",
       "      <td>3.802852</td>\n",
       "      <td>200.473522</td>\n",
       "      <td>3.364857</td>\n",
       "      <td>0.154282</td>\n",
       "      <td>0.166041</td>\n",
       "      <td>0.016929</td>\n",
       "    </tr>\n",
       "    <tr>\n",
       "      <th>std</th>\n",
       "      <td>0.241070</td>\n",
       "      <td>0.168343</td>\n",
       "      <td>1.163238</td>\n",
       "      <td>48.727813</td>\n",
       "      <td>1.330240</td>\n",
       "      <td>0.361234</td>\n",
       "      <td>0.372133</td>\n",
       "      <td>0.129012</td>\n",
       "    </tr>\n",
       "    <tr>\n",
       "      <th>min</th>\n",
       "      <td>0.090000</td>\n",
       "      <td>0.360000</td>\n",
       "      <td>2.000000</td>\n",
       "      <td>96.000000</td>\n",
       "      <td>2.000000</td>\n",
       "      <td>0.000000</td>\n",
       "      <td>0.000000</td>\n",
       "      <td>0.000000</td>\n",
       "    </tr>\n",
       "    <tr>\n",
       "      <th>25%</th>\n",
       "      <td>0.480000</td>\n",
       "      <td>0.570000</td>\n",
       "      <td>3.000000</td>\n",
       "      <td>157.000000</td>\n",
       "      <td>3.000000</td>\n",
       "      <td>0.000000</td>\n",
       "      <td>0.000000</td>\n",
       "      <td>0.000000</td>\n",
       "    </tr>\n",
       "    <tr>\n",
       "      <th>50%</th>\n",
       "      <td>0.660000</td>\n",
       "      <td>0.720000</td>\n",
       "      <td>4.000000</td>\n",
       "      <td>200.000000</td>\n",
       "      <td>3.000000</td>\n",
       "      <td>0.000000</td>\n",
       "      <td>0.000000</td>\n",
       "      <td>0.000000</td>\n",
       "    </tr>\n",
       "    <tr>\n",
       "      <th>75%</th>\n",
       "      <td>0.820000</td>\n",
       "      <td>0.860000</td>\n",
       "      <td>5.000000</td>\n",
       "      <td>243.000000</td>\n",
       "      <td>4.000000</td>\n",
       "      <td>0.000000</td>\n",
       "      <td>0.000000</td>\n",
       "      <td>0.000000</td>\n",
       "    </tr>\n",
       "    <tr>\n",
       "      <th>max</th>\n",
       "      <td>1.000000</td>\n",
       "      <td>1.000000</td>\n",
       "      <td>7.000000</td>\n",
       "      <td>310.000000</td>\n",
       "      <td>10.000000</td>\n",
       "      <td>1.000000</td>\n",
       "      <td>1.000000</td>\n",
       "      <td>1.000000</td>\n",
       "    </tr>\n",
       "  </tbody>\n",
       "</table>\n",
       "</div>"
      ],
      "text/plain": [
       "       satisfaction_level  last_evaluation  number_project  \\\n",
       "count        11991.000000     11991.000000    11991.000000   \n",
       "mean             0.629658         0.716683        3.802852   \n",
       "std              0.241070         0.168343        1.163238   \n",
       "min              0.090000         0.360000        2.000000   \n",
       "25%              0.480000         0.570000        3.000000   \n",
       "50%              0.660000         0.720000        4.000000   \n",
       "75%              0.820000         0.860000        5.000000   \n",
       "max              1.000000         1.000000        7.000000   \n",
       "\n",
       "       average_montly_hours  time_spend_company  Work_accident          left  \\\n",
       "count          11991.000000        11991.000000   11991.000000  11991.000000   \n",
       "mean             200.473522            3.364857       0.154282      0.166041   \n",
       "std               48.727813            1.330240       0.361234      0.372133   \n",
       "min               96.000000            2.000000       0.000000      0.000000   \n",
       "25%              157.000000            3.000000       0.000000      0.000000   \n",
       "50%              200.000000            3.000000       0.000000      0.000000   \n",
       "75%              243.000000            4.000000       0.000000      0.000000   \n",
       "max              310.000000           10.000000       1.000000      1.000000   \n",
       "\n",
       "       promotion_last_5years  \n",
       "count           11991.000000  \n",
       "mean                0.016929  \n",
       "std                 0.129012  \n",
       "min                 0.000000  \n",
       "25%                 0.000000  \n",
       "50%                 0.000000  \n",
       "75%                 0.000000  \n",
       "max                 1.000000  "
      ]
     },
     "execution_count": 8,
     "metadata": {},
     "output_type": "execute_result"
    }
   ],
   "source": [
    "data.describe()"
   ]
  },
  {
   "cell_type": "markdown",
   "id": "452de54d",
   "metadata": {},
   "source": [
    "# EDA Analysis"
   ]
  },
  {
   "cell_type": "code",
   "execution_count": 9,
   "id": "b42147db",
   "metadata": {
    "scrolled": true
   },
   "outputs": [
    {
     "name": "stderr",
     "output_type": "stream",
     "text": [
      "C:\\Users\\Mahendran\\anaconda3\\lib\\site-packages\\seaborn\\_decorators.py:36: FutureWarning: Pass the following variable as a keyword arg: x. From version 0.12, the only valid positional argument will be `data`, and passing other arguments without an explicit keyword will result in an error or misinterpretation.\n",
      "  warnings.warn(\n"
     ]
    },
    {
     "data": {
      "text/plain": [
       "<AxesSubplot:xlabel='satisfaction_level'>"
      ]
     },
     "execution_count": 9,
     "metadata": {},
     "output_type": "execute_result"
    },
    {
     "data": {
      "image/png": "[encoded data removed]",
      "text/plain": [
       "<Figure size 432x288 with 1 Axes>"
      ]
     },
     "metadata": {
      "needs_background": "light"
     },
     "output_type": "display_data"
    }
   ],
   "source": [
    "sns.boxplot(data.satisfaction_level)"
   ]
  },
  {
   "cell_type": "code",
   "execution_count": 10,
   "id": "cca7e16b",
   "metadata": {},
   "outputs": [
    {
     "name": "stderr",
     "output_type": "stream",
     "text": [
      "C:\\Users\\Mahendran\\anaconda3\\lib\\site-packages\\seaborn\\_decorators.py:36: FutureWarning: Pass the following variable as a keyword arg: x. From version 0.12, the only valid positional argument will be `data`, and passing other arguments without an explicit keyword will result in an error or misinterpretation.\n",
      "  warnings.warn(\n"
     ]
    },
    {
     "data": {
      "text/plain": [
       "<AxesSubplot:xlabel='last_evaluation'>"
      ]
     },
     "execution_count": 10,
     "metadata": {},
     "output_type": "execute_result"
    },
    {
     "data": {
      "image/png": "[encoded data removed]",
      "text/plain": [
       "<Figure size 432x288 with 1 Axes>"
      ]
     },
     "metadata": {
      "needs_background": "light"
     },
     "output_type": "display_data"
    }
   ],
   "source": [
    "sns.boxplot(data.last_evaluation)"
   ]
  },
  {
   "cell_type": "code",
   "execution_count": 11,
   "id": "38c2e011",
   "metadata": {},
   "outputs": [
    {
     "name": "stderr",
     "output_type": "stream",
     "text": [
      "C:\\Users\\Mahendran\\anaconda3\\lib\\site-packages\\seaborn\\_decorators.py:36: FutureWarning: Pass the following variable as a keyword arg: x. From version 0.12, the only valid positional argument will be `data`, and passing other arguments without an explicit keyword will result in an error or misinterpretation.\n",
      "  warnings.warn(\n"
     ]
    },
    {
     "data": {
      "text/plain": [
       "<AxesSubplot:xlabel='number_project'>"
      ]
     },
     "execution_count": 11,
     "metadata": {},
     "output_type": "execute_result"
    },
    {
     "data": {
      "image/png": "[encoded data removed]",
      "text/plain": [
       "<Figure size 432x288 with 1 Axes>"
      ]
     },
     "metadata": {
      "needs_background": "light"
     },
     "output_type": "display_data"
    }
   ],
   "source": [
    "sns.boxplot(data.number_project)"
   ]
  },
  {
   "cell_type": "code",
   "execution_count": 12,
   "id": "f39a6efc",
   "metadata": {},
   "outputs": [
    {
     "name": "stderr",
     "output_type": "stream",
     "text": [
      "C:\\Users\\Mahendran\\anaconda3\\lib\\site-packages\\seaborn\\_decorators.py:36: FutureWarning: Pass the following variable as a keyword arg: x. From version 0.12, the only valid positional argument will be `data`, and passing other arguments without an explicit keyword will result in an error or misinterpretation.\n",
      "  warnings.warn(\n"
     ]
    },
    {
     "data": {
      "text/plain": [
       "<AxesSubplot:xlabel='average_montly_hours'>"
      ]
     },
     "execution_count": 12,
     "metadata": {},
     "output_type": "execute_result"
    },
    {
     "data": {
      "image/png": "[encoded data removed]",
      "text/plain": [
       "<Figure size 432x288 with 1 Axes>"
      ]
     },
     "metadata": {
      "needs_background": "light"
     },
     "output_type": "display_data"
    }
   ],
   "source": [
    "sns.boxplot(data.average_montly_hours)"
   ]
  },
  {
   "cell_type": "code",
   "execution_count": 13,
   "id": "b7472fc5",
   "metadata": {},
   "outputs": [
    {
     "name": "stderr",
     "output_type": "stream",
     "text": [
      "C:\\Users\\Mahendran\\anaconda3\\lib\\site-packages\\seaborn\\_decorators.py:36: FutureWarning: Pass the following variable as a keyword arg: x. From version 0.12, the only valid positional argument will be `data`, and passing other arguments without an explicit keyword will result in an error or misinterpretation.\n",
      "  warnings.warn(\n"
     ]
    },
    {
     "data": {
      "text/plain": [
       "<AxesSubplot:xlabel='time_spend_company'>"
      ]
     },
     "execution_count": 13,
     "metadata": {},
     "output_type": "execute_result"
    },
    {
     "data": {
      "image/png": "[encoded data removed]",
      "text/plain": [
       "<Figure size 432x288 with 1 Axes>"
      ]
     },
     "metadata": {
      "needs_background": "light"
     },
     "output_type": "display_data"
    }
   ],
   "source": [
    "sns.boxplot(data.time_spend_company)"
   ]
  },
  {
   "cell_type": "markdown",
   "id": "f1ba853a",
   "metadata": {},
   "source": [
    "### Corelation Matrix"
   ]
  },
  {
   "cell_type": "code",
   "execution_count": 14,
   "id": "ccd1716a",
   "metadata": {},
   "outputs": [
    {
     "data": {
      "text/plain": [
       "<AxesSubplot:>"
      ]
     },
     "execution_count": 14,
     "metadata": {},
     "output_type": "execute_result"
    },
    {
     "data": {
      "image/png": "[encoded data removed]",
      "text/plain": [
       "<Figure size 720x576 with 2 Axes>"
      ]
     },
     "metadata": {
      "needs_background": "light"
     },
     "output_type": "display_data"
    }
   ],
   "source": [
    "plt.figure(figsize=(10,8))\n",
    "sns.heatmap(data.corr(),annot=True)"
   ]
  },
  {
   "cell_type": "markdown",
   "id": "f2b7a2d8",
   "metadata": {},
   "source": [
    "#### Counting Left column value for each values of Sales_Occured column"
   ]
  },
  {
   "cell_type": "code",
   "execution_count": 15,
   "id": "15b29892",
   "metadata": {},
   "outputs": [
    {
     "name": "stdout",
     "output_type": "stream",
     "text": [
      "sales 0    2689\n",
      "1     550\n",
      "Name: left, dtype: int64\n",
      "accounting 0    512\n",
      "1    109\n",
      "Name: left, dtype: int64\n",
      "hr 0    488\n",
      "1    113\n",
      "Name: left, dtype: int64\n",
      "technical 0    1854\n",
      "1     390\n",
      "Name: left, dtype: int64\n",
      "support 0    1509\n",
      "1     312\n",
      "Name: left, dtype: int64\n",
      "management 0    384\n",
      "1     52\n",
      "Name: left, dtype: int64\n",
      "IT 0    818\n",
      "1    158\n",
      "Name: left, dtype: int64\n",
      "product_mng 0    576\n",
      "1    110\n",
      "Name: left, dtype: int64\n",
      "marketing 0    561\n",
      "1    112\n",
      "Name: left, dtype: int64\n",
      "RandD 0    609\n",
      "1     85\n",
      "Name: left, dtype: int64\n"
     ]
    }
   ],
   "source": [
    "sale=data[\"Sales_Occured\"].unique()\n",
    "for i in sale:\n",
    "    print(i,data[data[\"Sales_Occured\"]==i][\"left\"].value_counts())"
   ]
  },
  {
   "cell_type": "markdown",
   "id": "f75e2439",
   "metadata": {},
   "source": [
    "### removing Outliers"
   ]
  },
  {
   "cell_type": "code",
   "execution_count": 16,
   "id": "3e0da1e1",
   "metadata": {},
   "outputs": [],
   "source": [
    "data1=data[~(data[\"time_spend_company\"]>8)]"
   ]
  },
  {
   "cell_type": "markdown",
   "id": "c31cf468",
   "metadata": {},
   "source": [
    "## Feature Engineering"
   ]
  },
  {
   "cell_type": "markdown",
   "id": "6f4c91d4",
   "metadata": {},
   "source": [
    "### splitting dependent and independent futures"
   ]
  },
  {
   "cell_type": "code",
   "execution_count": 17,
   "id": "bfc88f0b",
   "metadata": {},
   "outputs": [],
   "source": [
    "x=data1.drop(columns=[\"left\"])\n",
    "y=data1[\"left\"]"
   ]
  },
  {
   "cell_type": "code",
   "execution_count": 18,
   "id": "b5d3e8b3",
   "metadata": {},
   "outputs": [],
   "source": [
    "x1=x.copy()"
   ]
  },
  {
   "cell_type": "markdown",
   "id": "c613f8e1",
   "metadata": {},
   "source": [
    "### getting dummy variables for Sales_Occured"
   ]
  },
  {
   "cell_type": "code",
   "execution_count": 19,
   "id": "7fb3d97e",
   "metadata": {},
   "outputs": [],
   "source": [
    "x1[\"salary\"].replace({\"low\":0,\"medium\":1,\"high\":2},inplace=True)\n",
    "dum=pd.get_dummies(x1[\"Sales_Occured\"],drop_first=True)\n",
    "x1=pd.concat([x1,dum],axis=1)"
   ]
  },
  {
   "cell_type": "code",
   "execution_count": 20,
   "id": "c10efe2b",
   "metadata": {},
   "outputs": [],
   "source": [
    "x1.drop(columns=\"Sales_Occured\",inplace=True)"
   ]
  },
  {
   "cell_type": "markdown",
   "id": "eed77b32",
   "metadata": {},
   "source": [
    "### Splitting as training and testing data"
   ]
  },
  {
   "cell_type": "code",
   "execution_count": 21,
   "id": "fc0535b5",
   "metadata": {},
   "outputs": [],
   "source": [
    "from sklearn.model_selection import train_test_split\n",
    "x_train,x_test,y_train,y_test=train_test_split(x1,y,test_size=0.24,random_state=12)"
   ]
  },
  {
   "cell_type": "code",
   "execution_count": 22,
   "id": "321d7630",
   "metadata": {},
   "outputs": [
    {
     "data": {
      "text/plain": [
       "((9031, 17), (2853, 17))"
      ]
     },
     "execution_count": 22,
     "metadata": {},
     "output_type": "execute_result"
    }
   ],
   "source": [
    "x_train.shape,x_test.shape"
   ]
  },
  {
   "cell_type": "markdown",
   "id": "8ab38630",
   "metadata": {},
   "source": [
    "# Model Building"
   ]
  },
  {
   "cell_type": "markdown",
   "id": "72979f35",
   "metadata": {},
   "source": [
    "## RandomForest"
   ]
  },
  {
   "cell_type": "code",
   "execution_count": 23,
   "id": "0e7f88e0",
   "metadata": {},
   "outputs": [
    {
     "data": {
      "text/plain": [
       "0.9831756046267087"
      ]
     },
     "execution_count": 23,
     "metadata": {},
     "output_type": "execute_result"
    }
   ],
   "source": [
    "from sklearn.ensemble import RandomForestClassifier\n",
    "rf=RandomForestClassifier()\n",
    "rf.fit(x_train,y_train)\n",
    "pred=rf.predict(x_test)\n",
    "rf.score(x_test,y_test)"
   ]
  },
  {
   "cell_type": "code",
   "execution_count": 24,
   "id": "27b3dfa4",
   "metadata": {},
   "outputs": [
    {
     "data": {
      "text/html": [
       "<div>\n",
       "<style scoped>\n",
       "    .dataframe tbody tr th:only-of-type {\n",
       "        vertical-align: middle;\n",
       "    }\n",
       "\n",
       "    .dataframe tbody tr th {\n",
       "        vertical-align: top;\n",
       "    }\n",
       "\n",
       "    .dataframe thead th {\n",
       "        text-align: right;\n",
       "    }\n",
       "</style>\n",
       "<table border=\"1\" class=\"dataframe\">\n",
       "  <thead>\n",
       "    <tr style=\"text-align: right;\">\n",
       "      <th></th>\n",
       "      <th>satisfaction_level</th>\n",
       "      <th>last_evaluation</th>\n",
       "      <th>number_project</th>\n",
       "      <th>average_montly_hours</th>\n",
       "      <th>time_spend_company</th>\n",
       "      <th>Work_accident</th>\n",
       "      <th>promotion_last_5years</th>\n",
       "      <th>salary</th>\n",
       "      <th>RandD</th>\n",
       "      <th>accounting</th>\n",
       "      <th>hr</th>\n",
       "      <th>management</th>\n",
       "      <th>marketing</th>\n",
       "      <th>product_mng</th>\n",
       "      <th>sales</th>\n",
       "      <th>support</th>\n",
       "      <th>technical</th>\n",
       "    </tr>\n",
       "  </thead>\n",
       "  <tbody>\n",
       "    <tr>\n",
       "      <th>0</th>\n",
       "      <td>0.38</td>\n",
       "      <td>0.53</td>\n",
       "      <td>2</td>\n",
       "      <td>157</td>\n",
       "      <td>3</td>\n",
       "      <td>0</td>\n",
       "      <td>0</td>\n",
       "      <td>0</td>\n",
       "      <td>0</td>\n",
       "      <td>0</td>\n",
       "      <td>0</td>\n",
       "      <td>0</td>\n",
       "      <td>0</td>\n",
       "      <td>0</td>\n",
       "      <td>1</td>\n",
       "      <td>0</td>\n",
       "      <td>0</td>\n",
       "    </tr>\n",
       "    <tr>\n",
       "      <th>1</th>\n",
       "      <td>0.80</td>\n",
       "      <td>0.86</td>\n",
       "      <td>5</td>\n",
       "      <td>262</td>\n",
       "      <td>6</td>\n",
       "      <td>0</td>\n",
       "      <td>0</td>\n",
       "      <td>1</td>\n",
       "      <td>0</td>\n",
       "      <td>0</td>\n",
       "      <td>0</td>\n",
       "      <td>0</td>\n",
       "      <td>0</td>\n",
       "      <td>0</td>\n",
       "      <td>1</td>\n",
       "      <td>0</td>\n",
       "      <td>0</td>\n",
       "    </tr>\n",
       "    <tr>\n",
       "      <th>2</th>\n",
       "      <td>0.11</td>\n",
       "      <td>0.88</td>\n",
       "      <td>7</td>\n",
       "      <td>272</td>\n",
       "      <td>4</td>\n",
       "      <td>0</td>\n",
       "      <td>0</td>\n",
       "      <td>1</td>\n",
       "      <td>0</td>\n",
       "      <td>0</td>\n",
       "      <td>0</td>\n",
       "      <td>0</td>\n",
       "      <td>0</td>\n",
       "      <td>0</td>\n",
       "      <td>1</td>\n",
       "      <td>0</td>\n",
       "      <td>0</td>\n",
       "    </tr>\n",
       "    <tr>\n",
       "      <th>3</th>\n",
       "      <td>0.72</td>\n",
       "      <td>0.87</td>\n",
       "      <td>5</td>\n",
       "      <td>223</td>\n",
       "      <td>5</td>\n",
       "      <td>0</td>\n",
       "      <td>0</td>\n",
       "      <td>0</td>\n",
       "      <td>0</td>\n",
       "      <td>0</td>\n",
       "      <td>0</td>\n",
       "      <td>0</td>\n",
       "      <td>0</td>\n",
       "      <td>0</td>\n",
       "      <td>1</td>\n",
       "      <td>0</td>\n",
       "      <td>0</td>\n",
       "    </tr>\n",
       "    <tr>\n",
       "      <th>4</th>\n",
       "      <td>0.37</td>\n",
       "      <td>0.52</td>\n",
       "      <td>2</td>\n",
       "      <td>159</td>\n",
       "      <td>3</td>\n",
       "      <td>0</td>\n",
       "      <td>0</td>\n",
       "      <td>0</td>\n",
       "      <td>0</td>\n",
       "      <td>0</td>\n",
       "      <td>0</td>\n",
       "      <td>0</td>\n",
       "      <td>0</td>\n",
       "      <td>0</td>\n",
       "      <td>1</td>\n",
       "      <td>0</td>\n",
       "      <td>0</td>\n",
       "    </tr>\n",
       "  </tbody>\n",
       "</table>\n",
       "</div>"
      ],
      "text/plain": [
       "   satisfaction_level  last_evaluation  number_project  average_montly_hours  \\\n",
       "0                0.38             0.53               2                   157   \n",
       "1                0.80             0.86               5                   262   \n",
       "2                0.11             0.88               7                   272   \n",
       "3                0.72             0.87               5                   223   \n",
       "4                0.37             0.52               2                   159   \n",
       "\n",
       "   time_spend_company  Work_accident  promotion_last_5years  salary  RandD  \\\n",
       "0                   3              0                      0       0      0   \n",
       "1                   6              0                      0       1      0   \n",
       "2                   4              0                      0       1      0   \n",
       "3                   5              0                      0       0      0   \n",
       "4                   3              0                      0       0      0   \n",
       "\n",
       "   accounting  hr  management  marketing  product_mng  sales  support  \\\n",
       "0           0   0           0          0            0      1        0   \n",
       "1           0   0           0          0            0      1        0   \n",
       "2           0   0           0          0            0      1        0   \n",
       "3           0   0           0          0            0      1        0   \n",
       "4           0   0           0          0            0      1        0   \n",
       "\n",
       "   technical  \n",
       "0          0  \n",
       "1          0  \n",
       "2          0  \n",
       "3          0  \n",
       "4          0  "
      ]
     },
     "execution_count": 24,
     "metadata": {},
     "output_type": "execute_result"
    }
   ],
   "source": [
    "x1.head()"
   ]
  },
  {
   "cell_type": "markdown",
   "id": "6eb863a7",
   "metadata": {},
   "source": [
    "### prediction"
   ]
  },
  {
   "cell_type": "code",
   "execution_count": 25,
   "id": "eeedefc0",
   "metadata": {},
   "outputs": [],
   "source": [
    "def attr_predict(sales,satis,eva,nump,amh,tsc,wc,prom5,salary):\n",
    "    loc_index=np.where(x1.columns==sales)[0][0]\n",
    "    print(loc_index)\n",
    "    x=np.zeros(len(x1.columns))\n",
    "    x[0]=satis\n",
    "    x[1]=eva\n",
    "    x[2]=nump\n",
    "    x[3]=amh\n",
    "    x[4]=tsc\n",
    "    x[5]=wc\n",
    "    x[6]=prom5\n",
    "    x[7]=salary\n",
    "    if loc_index >=0:\n",
    "        x[loc_index]=1\n",
    "    return rf.predict([x])[0]"
   ]
  },
  {
   "cell_type": "code",
   "execution_count": 26,
   "id": "b8ed2390",
   "metadata": {},
   "outputs": [
    {
     "data": {
      "text/plain": [
       "satisfaction_level            0.36\n",
       "last_evaluation               0.51\n",
       "number_project                   2\n",
       "average_montly_hours           143\n",
       "time_spend_company               3\n",
       "Work_accident                    0\n",
       "left                             1\n",
       "promotion_last_5years            0\n",
       "Sales_Occured            technical\n",
       "salary                         low\n",
       "Name: 1263, dtype: object"
      ]
     },
     "execution_count": 26,
     "metadata": {},
     "output_type": "execute_result"
    }
   ],
   "source": [
    "data.loc[1263]"
   ]
  },
  {
   "cell_type": "code",
   "execution_count": 27,
   "id": "81fb23f7",
   "metadata": {},
   "outputs": [
    {
     "name": "stdout",
     "output_type": "stream",
     "text": [
      "16\n"
     ]
    },
    {
     "data": {
      "text/plain": [
       "1"
      ]
     },
     "execution_count": 27,
     "metadata": {},
     "output_type": "execute_result"
    }
   ],
   "source": [
    "attr_predict(\"technical\",0.36,0.51,2,143,3,0,0,0)"
   ]
  },
  {
   "cell_type": "code",
   "execution_count": 28,
   "id": "5a92c416",
   "metadata": {},
   "outputs": [
    {
     "data": {
      "text/plain": [
       "'sales'"
      ]
     },
     "execution_count": 28,
     "metadata": {},
     "output_type": "execute_result"
    }
   ],
   "source": [
    "x1.columns[14]"
   ]
  },
  {
   "cell_type": "code",
   "execution_count": 29,
   "id": "95d96f8b",
   "metadata": {},
   "outputs": [
    {
     "data": {
      "text/plain": [
       "array([0, 0, 0, ..., 1, 0, 1], dtype=int64)"
      ]
     },
     "execution_count": 29,
     "metadata": {},
     "output_type": "execute_result"
    }
   ],
   "source": [
    "rf.predict(x_test)"
   ]
  },
  {
   "cell_type": "markdown",
   "id": "ae4047c0",
   "metadata": {},
   "source": [
    "## LogisticRegression"
   ]
  },
  {
   "cell_type": "code",
   "execution_count": 30,
   "id": "efae070b",
   "metadata": {},
   "outputs": [
    {
     "name": "stderr",
     "output_type": "stream",
     "text": [
      "C:\\Users\\Mahendran\\anaconda3\\lib\\site-packages\\sklearn\\linear_model\\_sag.py:328: ConvergenceWarning: The max_iter was reached which means the coef_ did not converge\n",
      "  warnings.warn(\"The max_iter was reached which means \"\n"
     ]
    },
    {
     "data": {
      "text/plain": [
       "0.8314055380301437"
      ]
     },
     "execution_count": 30,
     "metadata": {},
     "output_type": "execute_result"
    }
   ],
   "source": [
    "from sklearn.linear_model import LogisticRegression\n",
    "lr=LogisticRegression(solver=\"saga\")\n",
    "lr.fit(x_train,y_train)\n",
    "lr.score(x_test,y_test)"
   ]
  },
  {
   "cell_type": "markdown",
   "id": "658b95d2",
   "metadata": {},
   "source": [
    "## DecisionTree"
   ]
  },
  {
   "cell_type": "code",
   "execution_count": 31,
   "id": "00ad7f99",
   "metadata": {},
   "outputs": [
    {
     "data": {
      "text/plain": [
       "0.9649491763056431"
      ]
     },
     "execution_count": 31,
     "metadata": {},
     "output_type": "execute_result"
    }
   ],
   "source": [
    "from sklearn.tree import DecisionTreeClassifier\n",
    "dt=DecisionTreeClassifier()\n",
    "dt.fit(x_train,y_train)\n",
    "dt.score(x_test,y_test)"
   ]
  },
  {
   "cell_type": "markdown",
   "id": "4e1e6e46",
   "metadata": {},
   "source": [
    "## SVM"
   ]
  },
  {
   "cell_type": "code",
   "execution_count": 32,
   "id": "4739b376",
   "metadata": {},
   "outputs": [
    {
     "data": {
      "text/plain": [
       "0.8338590956887487"
      ]
     },
     "execution_count": 32,
     "metadata": {},
     "output_type": "execute_result"
    }
   ],
   "source": [
    "from sklearn.svm import SVC\n",
    "svc=SVC()\n",
    "svc.fit(x_train,y_train)\n",
    "svc.score(x_test,y_test)"
   ]
  },
  {
   "cell_type": "markdown",
   "id": "1625d89e",
   "metadata": {},
   "source": [
    "## KNeighbors"
   ]
  },
  {
   "cell_type": "code",
   "execution_count": 33,
   "id": "b0756922",
   "metadata": {},
   "outputs": [
    {
     "data": {
      "text/plain": [
       "0.9428671573781984"
      ]
     },
     "execution_count": 33,
     "metadata": {},
     "output_type": "execute_result"
    }
   ],
   "source": [
    "from sklearn.neighbors import KNeighborsClassifier\n",
    "knn=KNeighborsClassifier(n_neighbors=15)\n",
    "knn.fit(x_train,y_train)\n",
    "knn.score(x_test,y_test)"
   ]
  },
  {
   "cell_type": "markdown",
   "id": "65519188",
   "metadata": {},
   "source": [
    "## Atlast accuracy given by models are"
   ]
  },
  {
   "cell_type": "markdown",
   "id": "a52c3217",
   "metadata": {},
   "source": [
    "### RandomForest :98.38766211005958 %"
   ]
  },
  {
   "cell_type": "markdown",
   "id": "0f4412df",
   "metadata": {},
   "source": [
    "### Logistic Regression:83.14055380301437 %"
   ]
  },
  {
   "cell_type": "markdown",
   "id": "833b5404",
   "metadata": {},
   "source": [
    "### SVM :83.38590956887487 %"
   ]
  },
  {
   "cell_type": "markdown",
   "id": "ece02a89",
   "metadata": {},
   "source": [
    "### DecisionTree :96.38976515948124 %"
   ]
  },
  {
   "cell_type": "markdown",
   "id": "e22aae66",
   "metadata": {},
   "source": [
    "### KNeighbors :94.28671573781984 %"
   ]
  },
  {
   "cell_type": "markdown",
   "id": "9e533795",
   "metadata": {},
   "source": [
    "### Conclusion Random Forest Gives High accuracy than other models"
   ]
  },
  {
   "cell_type": "code",
   "execution_count": 34,
   "id": "3552e454",
   "metadata": {},
   "outputs": [],
   "source": [
    "from sklearn.metrics import confusion_matrix\n"
   ]
  },
  {
   "cell_type": "code",
   "execution_count": 40,
   "id": "b2c10093",
   "metadata": {},
   "outputs": [
    {
     "data": {
      "image/png": "[encoded data removed]",
      "text/plain": [
       "<Figure size 576x432 with 2 Axes>"
      ]
     },
     "metadata": {
      "needs_background": "light"
     },
     "output_type": "display_data"
    }
   ],
   "source": [
    "plt.figure(figsize=(8,6))\n",
    "sns.heatmap(confusion_matrix(y_test,pred),annot=True)\n",
    "plt.show()"
   ]
  },
  {
   "cell_type": "code",
   "execution_count": null,
   "id": "c9fb9979",
   "metadata": {},
   "outputs": [],
   "source": []
  }
 ],
 "metadata": {
  "kernelspec": {
   "display_name": "Python 3 (ipykernel)",
   "language": "python",
   "name": "python3"
  },
  "language_info": {
   "codemirror_mode": {
    "name": "ipython",
    "version": 3
   },
   "file_extension": ".py",
   "mimetype": "text/x-python",
   "name": "python",
   "nbconvert_exporter": "python",
   "pygments_lexer": "ipython3",
   "version": "3.9.7"
  }
 },
 "nbformat": 4,
 "nbformat_minor": 5
}
