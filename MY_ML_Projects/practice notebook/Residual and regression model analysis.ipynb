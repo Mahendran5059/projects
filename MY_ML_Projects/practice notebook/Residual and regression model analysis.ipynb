{
 "cells": [
  {
   "cell_type": "code",
   "execution_count": 2,
   "id": "c84d9dfb",
   "metadata": {},
   "outputs": [],
   "source": [
    "import pandas as pd\n",
    "import numpy as np\n",
    "import matplotlib.pyplot as plt\n",
    "import statsmodels.formula.api as sm\n",
    "from scipy import stats\n",
    "import seaborn as sns\n",
    "from sklearn.linear_model import LinearRegression "
   ]
  },
  {
   "cell_type": "code",
   "execution_count": 2,
   "id": "b324d0ea",
   "metadata": {},
   "outputs": [],
   "source": [
    "from sklearn import linear_model\n",
    "\n",
    "linear_model?\n"
   ]
  },
  {
   "cell_type": "code",
   "execution_count": 3,
   "id": "6edc338b",
   "metadata": {},
   "outputs": [],
   "source": [
    "data=pd.read_excel('C:/Users/Mahendran/Downloads/nptel-DA/lrm.xlsx')"
   ]
  },
  {
   "cell_type": "code",
   "execution_count": 4,
   "id": "c2471d2e",
   "metadata": {},
   "outputs": [
    {
     "data": {
      "text/html": [
       "<div>\n",
       "<style scoped>\n",
       "    .dataframe tbody tr th:only-of-type {\n",
       "        vertical-align: middle;\n",
       "    }\n",
       "\n",
       "    .dataframe tbody tr th {\n",
       "        vertical-align: top;\n",
       "    }\n",
       "\n",
       "    .dataframe thead th {\n",
       "        text-align: right;\n",
       "    }\n",
       "</style>\n",
       "<table border=\"1\" class=\"dataframe\">\n",
       "  <thead>\n",
       "    <tr style=\"text-align: right;\">\n",
       "      <th></th>\n",
       "      <th>Restaurant</th>\n",
       "      <th>Student_Population</th>\n",
       "      <th>Sales</th>\n",
       "    </tr>\n",
       "  </thead>\n",
       "  <tbody>\n",
       "    <tr>\n",
       "      <th>0</th>\n",
       "      <td>1</td>\n",
       "      <td>2</td>\n",
       "      <td>58</td>\n",
       "    </tr>\n",
       "    <tr>\n",
       "      <th>1</th>\n",
       "      <td>2</td>\n",
       "      <td>6</td>\n",
       "      <td>105</td>\n",
       "    </tr>\n",
       "    <tr>\n",
       "      <th>2</th>\n",
       "      <td>3</td>\n",
       "      <td>8</td>\n",
       "      <td>88</td>\n",
       "    </tr>\n",
       "    <tr>\n",
       "      <th>3</th>\n",
       "      <td>4</td>\n",
       "      <td>8</td>\n",
       "      <td>118</td>\n",
       "    </tr>\n",
       "    <tr>\n",
       "      <th>4</th>\n",
       "      <td>5</td>\n",
       "      <td>12</td>\n",
       "      <td>117</td>\n",
       "    </tr>\n",
       "    <tr>\n",
       "      <th>5</th>\n",
       "      <td>6</td>\n",
       "      <td>16</td>\n",
       "      <td>137</td>\n",
       "    </tr>\n",
       "    <tr>\n",
       "      <th>6</th>\n",
       "      <td>7</td>\n",
       "      <td>20</td>\n",
       "      <td>157</td>\n",
       "    </tr>\n",
       "    <tr>\n",
       "      <th>7</th>\n",
       "      <td>8</td>\n",
       "      <td>20</td>\n",
       "      <td>169</td>\n",
       "    </tr>\n",
       "    <tr>\n",
       "      <th>8</th>\n",
       "      <td>9</td>\n",
       "      <td>22</td>\n",
       "      <td>149</td>\n",
       "    </tr>\n",
       "    <tr>\n",
       "      <th>9</th>\n",
       "      <td>10</td>\n",
       "      <td>26</td>\n",
       "      <td>202</td>\n",
       "    </tr>\n",
       "  </tbody>\n",
       "</table>\n",
       "</div>"
      ],
      "text/plain": [
       "   Restaurant  Student_Population  Sales\n",
       "0           1                   2     58\n",
       "1           2                   6    105\n",
       "2           3                   8     88\n",
       "3           4                   8    118\n",
       "4           5                  12    117\n",
       "5           6                  16    137\n",
       "6           7                  20    157\n",
       "7           8                  20    169\n",
       "8           9                  22    149\n",
       "9          10                  26    202"
      ]
     },
     "execution_count": 4,
     "metadata": {},
     "output_type": "execute_result"
    }
   ],
   "source": [
    "data"
   ]
  },
  {
   "cell_type": "code",
   "execution_count": 5,
   "id": "4759212a",
   "metadata": {},
   "outputs": [
    {
     "data": {
      "text/plain": [
       "<function matplotlib.pyplot.show(*args, **kw)>"
      ]
     },
     "execution_count": 5,
     "metadata": {},
     "output_type": "execute_result"
    },
    {
     "data": {
      "image/png": "[encoded data removed]",
      "text/plain": [
       "<Figure size 432x288 with 1 Axes>"
      ]
     },
     "metadata": {
      "needs_background": "light"
     },
     "output_type": "display_data"
    }
   ],
   "source": [
    "data.plot('Student_Population','Sales',style='o')\n",
    "plt.ylabel('Icecream restarunt sales')\n",
    "plt.title('Sales')\n",
    "plt.show"
   ]
  },
  {
   "cell_type": "code",
   "execution_count": 6,
   "id": "88bb6dcb",
   "metadata": {},
   "outputs": [
    {
     "name": "stderr",
     "output_type": "stream",
     "text": [
      "C:\\Users\\Mahendran\\anaconda3\\lib\\site-packages\\statsmodels\\tsa\\tsatools.py:142: FutureWarning: In a future version of pandas all arguments of concat except for the argument 'objs' will be keyword-only\n",
      "  x = pd.concat(x[::order], 1)\n",
      "C:\\Users\\Mahendran\\anaconda3\\lib\\site-packages\\scipy\\stats\\stats.py:1541: UserWarning: kurtosistest only valid for n>=20 ... continuing anyway, n=10\n",
      "  warnings.warn(\"kurtosistest only valid for n>=20 ... continuing \"\n"
     ]
    },
    {
     "data": {
      "text/html": [
       "<table class=\"simpletable\">\n",
       "<caption>OLS Regression Results</caption>\n",
       "<tr>\n",
       "  <th>Dep. Variable:</th>          <td>Sales</td>      <th>  R-squared:         </th> <td>   0.903</td>\n",
       "</tr>\n",
       "<tr>\n",
       "  <th>Model:</th>                   <td>OLS</td>       <th>  Adj. R-squared:    </th> <td>   0.891</td>\n",
       "</tr>\n",
       "<tr>\n",
       "  <th>Method:</th>             <td>Least Squares</td>  <th>  F-statistic:       </th> <td>   74.25</td>\n",
       "</tr>\n",
       "<tr>\n",
       "  <th>Date:</th>             <td>Fri, 18 Mar 2022</td> <th>  Prob (F-statistic):</th> <td>2.55e-05</td>\n",
       "</tr>\n",
       "<tr>\n",
       "  <th>Time:</th>                 <td>08:14:24</td>     <th>  Log-Likelihood:    </th> <td> -39.342</td>\n",
       "</tr>\n",
       "<tr>\n",
       "  <th>No. Observations:</th>      <td>    10</td>      <th>  AIC:               </th> <td>   82.68</td>\n",
       "</tr>\n",
       "<tr>\n",
       "  <th>Df Residuals:</th>          <td>     8</td>      <th>  BIC:               </th> <td>   83.29</td>\n",
       "</tr>\n",
       "<tr>\n",
       "  <th>Df Model:</th>              <td>     1</td>      <th>                     </th>     <td> </td>   \n",
       "</tr>\n",
       "<tr>\n",
       "  <th>Covariance Type:</th>      <td>nonrobust</td>    <th>                     </th>     <td> </td>   \n",
       "</tr>\n",
       "</table>\n",
       "<table class=\"simpletable\">\n",
       "<tr>\n",
       "           <td></td>             <th>coef</th>     <th>std err</th>      <th>t</th>      <th>P>|t|</th>  <th>[0.025</th>    <th>0.975]</th>  \n",
       "</tr>\n",
       "<tr>\n",
       "  <th>const</th>              <td>   60.0000</td> <td>    9.226</td> <td>    6.503</td> <td> 0.000</td> <td>   38.725</td> <td>   81.275</td>\n",
       "</tr>\n",
       "<tr>\n",
       "  <th>Student_Population</th> <td>    5.0000</td> <td>    0.580</td> <td>    8.617</td> <td> 0.000</td> <td>    3.662</td> <td>    6.338</td>\n",
       "</tr>\n",
       "</table>\n",
       "<table class=\"simpletable\">\n",
       "<tr>\n",
       "  <th>Omnibus:</th>       <td> 0.928</td> <th>  Durbin-Watson:     </th> <td>   3.224</td>\n",
       "</tr>\n",
       "<tr>\n",
       "  <th>Prob(Omnibus):</th> <td> 0.629</td> <th>  Jarque-Bera (JB):  </th> <td>   0.616</td>\n",
       "</tr>\n",
       "<tr>\n",
       "  <th>Skew:</th>          <td>-0.060</td> <th>  Prob(JB):          </th> <td>   0.735</td>\n",
       "</tr>\n",
       "<tr>\n",
       "  <th>Kurtosis:</th>      <td> 1.790</td> <th>  Cond. No.          </th> <td>    33.6</td>\n",
       "</tr>\n",
       "</table><br/><br/>Notes:<br/>[1] Standard Errors assume that the covariance matrix of the errors is correctly specified."
      ],
      "text/plain": [
       "<class 'statsmodels.iolib.summary.Summary'>\n",
       "\"\"\"\n",
       "                            OLS Regression Results                            \n",
       "==============================================================================\n",
       "Dep. Variable:                  Sales   R-squared:                       0.903\n",
       "Model:                            OLS   Adj. R-squared:                  0.891\n",
       "Method:                 Least Squares   F-statistic:                     74.25\n",
       "Date:                Fri, 18 Mar 2022   Prob (F-statistic):           2.55e-05\n",
       "Time:                        08:14:24   Log-Likelihood:                -39.342\n",
       "No. Observations:                  10   AIC:                             82.68\n",
       "Df Residuals:                       8   BIC:                             83.29\n",
       "Df Model:                           1                                         \n",
       "Covariance Type:            nonrobust                                         \n",
       "======================================================================================\n",
       "                         coef    std err          t      P>|t|      [0.025      0.975]\n",
       "--------------------------------------------------------------------------------------\n",
       "const                 60.0000      9.226      6.503      0.000      38.725      81.275\n",
       "Student_Population     5.0000      0.580      8.617      0.000       3.662       6.338\n",
       "==============================================================================\n",
       "Omnibus:                        0.928   Durbin-Watson:                   3.224\n",
       "Prob(Omnibus):                  0.629   Jarque-Bera (JB):                0.616\n",
       "Skew:                          -0.060   Prob(JB):                        0.735\n",
       "Kurtosis:                       1.790   Cond. No.                         33.6\n",
       "==============================================================================\n",
       "\n",
       "Notes:\n",
       "[1] Standard Errors assume that the covariance matrix of the errors is correctly specified.\n",
       "\"\"\""
      ]
     },
     "execution_count": 6,
     "metadata": {},
     "output_type": "execute_result"
    }
   ],
   "source": [
    "import statsmodels.api as s\n",
    "s_pop=data['Student_Population']\n",
    "sales=data['Sales']\n",
    "st_pop=s.add_constant(s_pop)\n",
    "model1=s.OLS(sales,st_pop)\n",
    "result1=model1.fit()\n",
    "result1.summary()"
   ]
  },
  {
   "cell_type": "code",
   "execution_count": 7,
   "id": "abfb5e5e",
   "metadata": {},
   "outputs": [
    {
     "data": {
      "text/plain": [
       "LinearRegression()"
      ]
     },
     "execution_count": 7,
     "metadata": {},
     "output_type": "execute_result"
    }
   ],
   "source": [
    "x=data['Student_Population'].values.reshape(-1,1)\n",
    "y=data['Sales'].values.reshape(-1,1)\n",
    "res=LinearRegression()\n",
    "res.fit(x,y)"
   ]
  },
  {
   "cell_type": "code",
   "execution_count": 8,
   "id": "10c7154e",
   "metadata": {},
   "outputs": [
    {
     "data": {
      "text/plain": [
       "(60.0, 5.0)"
      ]
     },
     "execution_count": 8,
     "metadata": {},
     "output_type": "execute_result"
    }
   ],
   "source": [
    "res.intercept_[0],res.coef_[0][0]"
   ]
  },
  {
   "cell_type": "code",
   "execution_count": 9,
   "id": "c2e8be5a",
   "metadata": {},
   "outputs": [
    {
     "name": "stderr",
     "output_type": "stream",
     "text": [
      "C:\\Users\\Mahendran\\anaconda3\\lib\\site-packages\\seaborn\\_decorators.py:36: FutureWarning: Pass the following variables as keyword args: x, y. From version 0.12, the only valid positional argument will be `data`, and passing other arguments without an explicit keyword will result in an error or misinterpretation.\n",
      "  warnings.warn(\n"
     ]
    },
    {
     "data": {
      "text/plain": [
       "<matplotlib.collections.PathCollection at 0x1d683dd83d0>"
      ]
     },
     "execution_count": 9,
     "metadata": {},
     "output_type": "execute_result"
    },
    {
     "data": {
      "image/png": "[encoded data removed]",
      "text/plain": [
       "<Figure size 432x288 with 1 Axes>"
      ]
     },
     "metadata": {
      "needs_background": "light"
     },
     "output_type": "display_data"
    }
   ],
   "source": [
    "plt.figure()\n",
    "sns.regplot(x,y,fit_reg=True)\n",
    "plt.scatter(np.mean(x),np.mean(y),color=\"red\")"
   ]
  },
  {
   "cell_type": "code",
   "execution_count": 10,
   "id": "6164142f",
   "metadata": {},
   "outputs": [],
   "source": [
    "from statsmodels.stats.outliers_influence import summary_table\n",
    "st,data1,ss2=summary_table(result1,alpha=0.05)\n",
    "fittedvalues=data1[:,2]\n",
    "pedict_mean_se=data1[:,3]\n",
    "predict_mean_ci_low,predict_mean_ci_upp=data1[:,4:6].T\n",
    "predict_ci_low,predict_ci_upp=data1[:,6:8].T"
   ]
  },
  {
   "cell_type": "code",
   "execution_count": 11,
   "id": "ae06d346",
   "metadata": {},
   "outputs": [
    {
     "data": {
      "text/plain": [
       "array([[ 1.00000000e+00,  5.80000000e+01,  7.00000000e+01,\n",
       "         8.22258569e+00,  5.10386834e+01,  8.89613166e+01,\n",
       "         3.28983415e+01,  1.07101658e+02, -1.20000000e+01,\n",
       "         1.11193113e+01, -1.07920353e+00,  3.18447433e-01],\n",
       "       [ 2.00000000e+00,  1.05000000e+02,  9.00000000e+01,\n",
       "         6.37764030e+00,  7.52931351e+01,  1.04706865e+02,\n",
       "         5.48817226e+01,  1.25118277e+02,  1.50000000e+01,\n",
       "         1.22709292e+01,  1.22240131e+00,  2.01819329e-01],\n",
       "       [ 3.00000000e+00,  8.80000000e+01,  1.00000000e+02,\n",
       "         5.58985500e+00,  8.71097713e+01,  1.12890229e+02,\n",
       "         6.56029139e+01,  1.34397086e+02, -1.20000000e+01,\n",
       "         1.26492498e+01, -9.48672859e-01,  8.78768540e-02],\n",
       "       [ 4.00000000e+00,  1.18000000e+02,  1.00000000e+02,\n",
       "         5.58985500e+00,  8.71097713e+01,  1.12890229e+02,\n",
       "         6.56029139e+01,  1.34397086e+02,  1.80000000e+01,\n",
       "         1.26492498e+01,  1.42300929e+00,  1.97722921e-01],\n",
       "       [ 5.00000000e+00,  1.17000000e+02,  1.20000000e+02,\n",
       "         4.52458075e+00,  1.09566298e+02,  1.30433702e+02,\n",
       "         8.64461080e+01,  1.53553892e+02, -3.00000000e+00,\n",
       "         1.30682122e+01, -2.29564684e-01,  3.15867174e-03],\n",
       "       [ 6.00000000e+00,  1.37000000e+02,  1.40000000e+02,\n",
       "         4.52458075e+00,  1.29566298e+02,  1.50433702e+02,\n",
       "         1.06446108e+02,  1.73553892e+02, -3.00000000e+00,\n",
       "         1.30682122e+01, -2.29564684e-01,  3.15867174e-03],\n",
       "       [ 7.00000000e+00,  1.57000000e+02,  1.60000000e+02,\n",
       "         5.58985500e+00,  1.47109771e+02,  1.72890229e+02,\n",
       "         1.25602914e+02,  1.94397086e+02, -3.00000000e+00,\n",
       "         1.26492498e+01, -2.37168215e-01,  5.49230337e-03],\n",
       "       [ 8.00000000e+00,  1.69000000e+02,  1.60000000e+02,\n",
       "         5.58985500e+00,  1.47109771e+02,  1.72890229e+02,\n",
       "         1.25602914e+02,  1.94397086e+02,  9.00000000e+00,\n",
       "         1.26492498e+01,  7.11504645e-01,  4.94307304e-02],\n",
       "       [ 9.00000000e+00,  1.49000000e+02,  1.70000000e+02,\n",
       "         6.37764030e+00,  1.55293135e+02,  1.84706865e+02,\n",
       "         1.34881723e+02,  2.05118277e+02, -2.10000000e+01,\n",
       "         1.22709292e+01, -1.71136184e+00,  3.95565886e-01],\n",
       "       [ 1.00000000e+01,  2.02000000e+02,  1.90000000e+02,\n",
       "         8.22258569e+00,  1.71038683e+02,  2.08961317e+02,\n",
       "         1.52898342e+02,  2.27101658e+02,  1.20000000e+01,\n",
       "         1.11193113e+01,  1.07920353e+00,  3.18447433e-01]])"
      ]
     },
     "execution_count": 11,
     "metadata": {},
     "output_type": "execute_result"
    }
   ],
   "source": [
    "data1"
   ]
  },
  {
   "cell_type": "code",
   "execution_count": 12,
   "id": "0c09f10d",
   "metadata": {},
   "outputs": [
    {
     "data": {
      "text/plain": [
       "array([ 51.03868339,  75.2931351 ,  87.10977127,  87.10977127,\n",
       "       109.56629808, 129.56629808, 147.10977127, 147.10977127,\n",
       "       155.2931351 , 171.03868339])"
      ]
     },
     "execution_count": 12,
     "metadata": {},
     "output_type": "execute_result"
    }
   ],
   "source": [
    "predict_mean_ci_low"
   ]
  },
  {
   "cell_type": "code",
   "execution_count": 13,
   "id": "98a48ffb",
   "metadata": {},
   "outputs": [
    {
     "data": {
      "text/plain": [
       "array([ 88.96131661, 104.7068649 , 112.89022873, 112.89022873,\n",
       "       130.43370192, 150.43370192, 172.89022873, 172.89022873,\n",
       "       184.7068649 , 208.96131661])"
      ]
     },
     "execution_count": 13,
     "metadata": {},
     "output_type": "execute_result"
    }
   ],
   "source": [
    "predict_mean_ci_upp"
   ]
  },
  {
   "cell_type": "code",
   "execution_count": 14,
   "id": "6d5679bd",
   "metadata": {},
   "outputs": [
    {
     "data": {
      "text/plain": [
       "array([ 32.89834155,  54.8817226 ,  65.60291394,  65.60291394,\n",
       "        86.446108  , 106.446108  , 125.60291394, 125.60291394,\n",
       "       134.8817226 , 152.89834155])"
      ]
     },
     "execution_count": 14,
     "metadata": {},
     "output_type": "execute_result"
    }
   ],
   "source": [
    "predict_ci_low"
   ]
  },
  {
   "cell_type": "code",
   "execution_count": 15,
   "id": "b11514b1",
   "metadata": {},
   "outputs": [
    {
     "data": {
      "text/plain": [
       "array([107.10165845, 125.1182774 , 134.39708606, 134.39708606,\n",
       "       153.553892  , 173.553892  , 194.39708606, 194.39708606,\n",
       "       205.1182774 , 227.10165845])"
      ]
     },
     "execution_count": 15,
     "metadata": {},
     "output_type": "execute_result"
    }
   ],
   "source": [
    "predict_ci_upp"
   ]
  },
  {
   "cell_type": "code",
   "execution_count": 16,
   "id": "48882b30",
   "metadata": {},
   "outputs": [
    {
     "data": {
      "text/plain": [
       "[<matplotlib.lines.Line2D at 0x1d684e61850>,\n",
       " <matplotlib.lines.Line2D at 0x1d684e61940>]"
      ]
     },
     "execution_count": 16,
     "metadata": {},
     "output_type": "execute_result"
    },
    {
     "data": {
      "image/png": "[encoded data removed]",
      "text/plain": [
       "<Figure size 576x432 with 1 Axes>"
      ]
     },
     "metadata": {
      "needs_background": "light"
     },
     "output_type": "display_data"
    }
   ],
   "source": [
    "X=s.add_constant(x)\n",
    "fig,ax=plt.subplots(figsize=(8,6))\n",
    "ax.plot(X,y,'o',label='data')\n",
    "ax.plot(X,fittedvalues,'r-',label='OLS')\n",
    "ax.plot(X,predict_ci_low,'b--')\n",
    "ax.plot(X,predict_ci_upp,'b--')\n",
    "ax.plot(X,predict_mean_ci_low,'g--')\n",
    "ax.plot(X,predict_mean_ci_upp,'g--')"
   ]
  },
  {
   "cell_type": "code",
   "execution_count": 17,
   "id": "737c679e",
   "metadata": {},
   "outputs": [
    {
     "name": "stderr",
     "output_type": "stream",
     "text": [
      "C:\\Users\\Mahendran\\anaconda3\\lib\\site-packages\\seaborn\\_decorators.py:36: FutureWarning: Pass the following variables as keyword args: x, y. From version 0.12, the only valid positional argument will be `data`, and passing other arguments without an explicit keyword will result in an error or misinterpretation.\n",
      "  warnings.warn(\n"
     ]
    },
    {
     "data": {
      "text/plain": [
       "<matplotlib.axes._subplots.AxesSubplot at 0x1d684ea0370>"
      ]
     },
     "execution_count": 17,
     "metadata": {},
     "output_type": "execute_result"
    },
    {
     "data": {
      "image/png": "[encoded data removed]",
      "text/plain": [
       "<Figure size 432x288 with 1 Axes>"
      ]
     },
     "metadata": {
      "needs_background": "light"
     },
     "output_type": "display_data"
    }
   ],
   "source": [
    "sns.residplot(data['Student_Population'],data['Sales'],color='g')"
   ]
  },
  {
   "cell_type": "code",
   "execution_count": 21,
   "id": "6c30c2f1",
   "metadata": {},
   "outputs": [
    {
     "data": {
      "text/html": [
       "<div>\n",
       "<style scoped>\n",
       "    .dataframe tbody tr th:only-of-type {\n",
       "        vertical-align: middle;\n",
       "    }\n",
       "\n",
       "    .dataframe tbody tr th {\n",
       "        vertical-align: top;\n",
       "    }\n",
       "\n",
       "    .dataframe thead th {\n",
       "        text-align: right;\n",
       "    }\n",
       "</style>\n",
       "<table border=\"1\" class=\"dataframe\">\n",
       "  <thead>\n",
       "    <tr style=\"text-align: right;\">\n",
       "      <th></th>\n",
       "      <th>Student_Population</th>\n",
       "      <th>Sales</th>\n",
       "    </tr>\n",
       "  </thead>\n",
       "  <tbody>\n",
       "    <tr>\n",
       "      <th>0</th>\n",
       "      <td>2</td>\n",
       "      <td>58</td>\n",
       "    </tr>\n",
       "    <tr>\n",
       "      <th>1</th>\n",
       "      <td>6</td>\n",
       "      <td>105</td>\n",
       "    </tr>\n",
       "    <tr>\n",
       "      <th>2</th>\n",
       "      <td>8</td>\n",
       "      <td>88</td>\n",
       "    </tr>\n",
       "    <tr>\n",
       "      <th>3</th>\n",
       "      <td>8</td>\n",
       "      <td>118</td>\n",
       "    </tr>\n",
       "    <tr>\n",
       "      <th>4</th>\n",
       "      <td>12</td>\n",
       "      <td>117</td>\n",
       "    </tr>\n",
       "    <tr>\n",
       "      <th>5</th>\n",
       "      <td>16</td>\n",
       "      <td>137</td>\n",
       "    </tr>\n",
       "    <tr>\n",
       "      <th>6</th>\n",
       "      <td>20</td>\n",
       "      <td>157</td>\n",
       "    </tr>\n",
       "    <tr>\n",
       "      <th>7</th>\n",
       "      <td>20</td>\n",
       "      <td>169</td>\n",
       "    </tr>\n",
       "    <tr>\n",
       "      <th>8</th>\n",
       "      <td>22</td>\n",
       "      <td>149</td>\n",
       "    </tr>\n",
       "    <tr>\n",
       "      <th>9</th>\n",
       "      <td>26</td>\n",
       "      <td>202</td>\n",
       "    </tr>\n",
       "  </tbody>\n",
       "</table>\n",
       "</div>"
      ],
      "text/plain": [
       "   Student_Population  Sales\n",
       "0                   2     58\n",
       "1                   6    105\n",
       "2                   8     88\n",
       "3                   8    118\n",
       "4                  12    117\n",
       "5                  16    137\n",
       "6                  20    157\n",
       "7                  20    169\n",
       "8                  22    149\n",
       "9                  26    202"
      ]
     },
     "execution_count": 21,
     "metadata": {},
     "output_type": "execute_result"
    }
   ],
   "source": [
    "from statsmodels.stats.anova import anova_lm\n",
    "df1=pd.read_excel('C:/Users/Mahendran/Downloads/nptel-DA/icecream.xlsx')\n",
    "df1"
   ]
  },
  {
   "cell_type": "code",
   "execution_count": 22,
   "id": "516db90a",
   "metadata": {},
   "outputs": [
    {
     "name": "stderr",
     "output_type": "stream",
     "text": [
      "C:\\Users\\Mahendran\\anaconda3\\lib\\site-packages\\seaborn\\_decorators.py:36: FutureWarning: Pass the following variables as keyword args: x, y. From version 0.12, the only valid positional argument will be `data`, and passing other arguments without an explicit keyword will result in an error or misinterpretation.\n",
      "  warnings.warn(\n"
     ]
    },
    {
     "data": {
      "text/plain": [
       "<matplotlib.axes._subplots.AxesSubplot at 0x1d683095af0>"
      ]
     },
     "execution_count": 22,
     "metadata": {},
     "output_type": "execute_result"
    },
    {
     "data": {
      "image/png": "[encoded data removed]",
      "text/plain": [
       "<Figure size 432x288 with 1 Axes>"
      ]
     },
     "metadata": {
      "needs_background": "light"
     },
     "output_type": "display_data"
    }
   ],
   "source": [
    "sns.residplot(df1['Student_Population'],df1['Sales'],color='r')"
   ]
  },
  {
   "cell_type": "code",
   "execution_count": 24,
   "id": "4bb20f42",
   "metadata": {},
   "outputs": [
    {
     "name": "stderr",
     "output_type": "stream",
     "text": [
      "C:\\Users\\Mahendran\\anaconda3\\lib\\site-packages\\scipy\\stats\\stats.py:1541: UserWarning: kurtosistest only valid for n>=20 ... continuing anyway, n=10\n",
      "  warnings.warn(\"kurtosistest only valid for n>=20 ... continuing \"\n"
     ]
    },
    {
     "data": {
      "text/html": [
       "<table class=\"simpletable\">\n",
       "<caption>OLS Regression Results</caption>\n",
       "<tr>\n",
       "  <th>Dep. Variable:</th>          <td>Sales</td>      <th>  R-squared:         </th> <td>   0.903</td>\n",
       "</tr>\n",
       "<tr>\n",
       "  <th>Model:</th>                   <td>OLS</td>       <th>  Adj. R-squared:    </th> <td>   0.891</td>\n",
       "</tr>\n",
       "<tr>\n",
       "  <th>Method:</th>             <td>Least Squares</td>  <th>  F-statistic:       </th> <td>   74.25</td>\n",
       "</tr>\n",
       "<tr>\n",
       "  <th>Date:</th>             <td>Fri, 18 Mar 2022</td> <th>  Prob (F-statistic):</th> <td>2.55e-05</td>\n",
       "</tr>\n",
       "<tr>\n",
       "  <th>Time:</th>                 <td>08:26:47</td>     <th>  Log-Likelihood:    </th> <td> -39.342</td>\n",
       "</tr>\n",
       "<tr>\n",
       "  <th>No. Observations:</th>      <td>    10</td>      <th>  AIC:               </th> <td>   82.68</td>\n",
       "</tr>\n",
       "<tr>\n",
       "  <th>Df Residuals:</th>          <td>     8</td>      <th>  BIC:               </th> <td>   83.29</td>\n",
       "</tr>\n",
       "<tr>\n",
       "  <th>Df Model:</th>              <td>     1</td>      <th>                     </th>     <td> </td>   \n",
       "</tr>\n",
       "<tr>\n",
       "  <th>Covariance Type:</th>      <td>nonrobust</td>    <th>                     </th>     <td> </td>   \n",
       "</tr>\n",
       "</table>\n",
       "<table class=\"simpletable\">\n",
       "<tr>\n",
       "           <td></td>             <th>coef</th>     <th>std err</th>      <th>t</th>      <th>P>|t|</th>  <th>[0.025</th>    <th>0.975]</th>  \n",
       "</tr>\n",
       "<tr>\n",
       "  <th>Intercept</th>          <td>   60.0000</td> <td>    9.226</td> <td>    6.503</td> <td> 0.000</td> <td>   38.725</td> <td>   81.275</td>\n",
       "</tr>\n",
       "<tr>\n",
       "  <th>Student_Population</th> <td>    5.0000</td> <td>    0.580</td> <td>    8.617</td> <td> 0.000</td> <td>    3.662</td> <td>    6.338</td>\n",
       "</tr>\n",
       "</table>\n",
       "<table class=\"simpletable\">\n",
       "<tr>\n",
       "  <th>Omnibus:</th>       <td> 0.928</td> <th>  Durbin-Watson:     </th> <td>   3.224</td>\n",
       "</tr>\n",
       "<tr>\n",
       "  <th>Prob(Omnibus):</th> <td> 0.629</td> <th>  Jarque-Bera (JB):  </th> <td>   0.616</td>\n",
       "</tr>\n",
       "<tr>\n",
       "  <th>Skew:</th>          <td>-0.060</td> <th>  Prob(JB):          </th> <td>   0.735</td>\n",
       "</tr>\n",
       "<tr>\n",
       "  <th>Kurtosis:</th>      <td> 1.790</td> <th>  Cond. No.          </th> <td>    33.6</td>\n",
       "</tr>\n",
       "</table><br/><br/>Notes:<br/>[1] Standard Errors assume that the covariance matrix of the errors is correctly specified."
      ],
      "text/plain": [
       "<class 'statsmodels.iolib.summary.Summary'>\n",
       "\"\"\"\n",
       "                            OLS Regression Results                            \n",
       "==============================================================================\n",
       "Dep. Variable:                  Sales   R-squared:                       0.903\n",
       "Model:                            OLS   Adj. R-squared:                  0.891\n",
       "Method:                 Least Squares   F-statistic:                     74.25\n",
       "Date:                Fri, 18 Mar 2022   Prob (F-statistic):           2.55e-05\n",
       "Time:                        08:26:47   Log-Likelihood:                -39.342\n",
       "No. Observations:                  10   AIC:                             82.68\n",
       "Df Residuals:                       8   BIC:                             83.29\n",
       "Df Model:                           1                                         \n",
       "Covariance Type:            nonrobust                                         \n",
       "======================================================================================\n",
       "                         coef    std err          t      P>|t|      [0.025      0.975]\n",
       "--------------------------------------------------------------------------------------\n",
       "Intercept             60.0000      9.226      6.503      0.000      38.725      81.275\n",
       "Student_Population     5.0000      0.580      8.617      0.000       3.662       6.338\n",
       "==============================================================================\n",
       "Omnibus:                        0.928   Durbin-Watson:                   3.224\n",
       "Prob(Omnibus):                  0.629   Jarque-Bera (JB):                0.616\n",
       "Skew:                          -0.060   Prob(JB):                        0.735\n",
       "Kurtosis:                       1.790   Cond. No.                         33.6\n",
       "==============================================================================\n",
       "\n",
       "Notes:\n",
       "[1] Standard Errors assume that the covariance matrix of the errors is correctly specified.\n",
       "\"\"\""
      ]
     },
     "execution_count": 24,
     "metadata": {},
     "output_type": "execute_result"
    }
   ],
   "source": [
    "from statsmodels.formula.api import ols\n",
    "reg1=ols(formula='Sales~Student_Population',data=df1)\n",
    "Fit1=reg1.fit()\n",
    "Fit1.summary()"
   ]
  },
  {
   "cell_type": "code",
   "execution_count": 25,
   "id": "5beef700",
   "metadata": {},
   "outputs": [
    {
     "data": {
      "text/html": [
       "<div>\n",
       "<style scoped>\n",
       "    .dataframe tbody tr th:only-of-type {\n",
       "        vertical-align: middle;\n",
       "    }\n",
       "\n",
       "    .dataframe tbody tr th {\n",
       "        vertical-align: top;\n",
       "    }\n",
       "\n",
       "    .dataframe thead th {\n",
       "        text-align: right;\n",
       "    }\n",
       "</style>\n",
       "<table border=\"1\" class=\"dataframe\">\n",
       "  <thead>\n",
       "    <tr style=\"text-align: right;\">\n",
       "      <th></th>\n",
       "      <th>df</th>\n",
       "      <th>sum_sq</th>\n",
       "      <th>mean_sq</th>\n",
       "      <th>F</th>\n",
       "      <th>PR(&gt;F)</th>\n",
       "    </tr>\n",
       "  </thead>\n",
       "  <tbody>\n",
       "    <tr>\n",
       "      <th>Student_Population</th>\n",
       "      <td>1.0</td>\n",
       "      <td>14200.0</td>\n",
       "      <td>14200.00</td>\n",
       "      <td>74.248366</td>\n",
       "      <td>0.000025</td>\n",
       "    </tr>\n",
       "    <tr>\n",
       "      <th>Residual</th>\n",
       "      <td>8.0</td>\n",
       "      <td>1530.0</td>\n",
       "      <td>191.25</td>\n",
       "      <td>NaN</td>\n",
       "      <td>NaN</td>\n",
       "    </tr>\n",
       "  </tbody>\n",
       "</table>\n",
       "</div>"
      ],
      "text/plain": [
       "                     df   sum_sq   mean_sq          F    PR(>F)\n",
       "Student_Population  1.0  14200.0  14200.00  74.248366  0.000025\n",
       "Residual            8.0   1530.0    191.25        NaN       NaN"
      ]
     },
     "execution_count": 25,
     "metadata": {},
     "output_type": "execute_result"
    }
   ],
   "source": [
    "anova_lm(Fit1)"
   ]
  },
  {
   "cell_type": "code",
   "execution_count": 29,
   "id": "8164df64",
   "metadata": {},
   "outputs": [
    {
     "data": {
      "text/plain": [
       "array([-1.09212653,  1.26798654, -0.94196706,  1.54023214, -0.21544891,\n",
       "       -0.21544891, -0.22263461,  0.68766487, -2.01063738,  1.09212653])"
      ]
     },
     "execution_count": 29,
     "metadata": {},
     "output_type": "execute_result"
    }
   ],
   "source": [
    "influence=Fit1.get_influence()\n",
    "resid_student=influence.resid_studentized_external\n",
    "resid_student"
   ]
  },
  {
   "cell_type": "code",
   "execution_count": 30,
   "id": "e0fce367",
   "metadata": {},
   "outputs": [
    {
     "data": {
      "text/plain": [
       "<matplotlib.collections.PathCollection at 0x1d68504c250>"
      ]
     },
     "execution_count": 30,
     "metadata": {},
     "output_type": "execute_result"
    },
    {
     "data": {
      "image/png": "[encoded data removed]",
      "text/plain": [
       "<Figure size 432x288 with 1 Axes>"
      ]
     },
     "metadata": {
      "needs_background": "light"
     },
     "output_type": "display_data"
    }
   ],
   "source": [
    "plt.figure()\n",
    "plt.scatter(df1['Student_Population'],resid_student,color=\"green\")"
   ]
  },
  {
   "cell_type": "code",
   "execution_count": 32,
   "id": "12583aa3",
   "metadata": {},
   "outputs": [
    {
     "data": {
      "image/png": "[encoded data removed]",
      "text/plain": [
       "<Figure size 432x288 with 1 Axes>"
      ]
     },
     "metadata": {
      "needs_background": "light"
     },
     "output_type": "display_data"
    }
   ],
   "source": [
    "res=Fit1.resid\n",
    "probplot=s.ProbPlot(res,stats.norm,fit=True)\n",
    "fig=probplot.qqplot(line='45')\n",
    "h=plt.title('qqplot~residuals of ols fit')\n",
    "plt.show()"
   ]
  },
  {
   "cell_type": "code",
   "execution_count": null,
   "id": "18ecef2a",
   "metadata": {},
   "outputs": [],
   "source": []
  }
 ],
 "metadata": {
  "kernelspec": {
   "display_name": "Python 3 (ipykernel)",
   "language": "python",
   "name": "python3"
  },
  "language_info": {
   "codemirror_mode": {
    "name": "ipython",
    "version": 3
   },
   "file_extension": ".py",
   "mimetype": "text/x-python",
   "name": "python",
   "nbconvert_exporter": "python",
   "pygments_lexer": "ipython3",
   "version": "3.9.7"
  }
 },
 "nbformat": 4,
 "nbformat_minor": 5
}
