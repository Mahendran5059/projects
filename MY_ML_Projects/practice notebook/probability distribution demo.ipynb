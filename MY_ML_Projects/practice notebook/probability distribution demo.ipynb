{
 "cells": [
  {
   "cell_type": "code",
   "execution_count": 2,
   "id": "9dfd969e",
   "metadata": {},
   "outputs": [],
   "source": [
    "import scipy\n",
    "import numpy as np"
   ]
  },
  {
   "cell_type": "code",
   "execution_count": 4,
   "id": "fcdaf4cc",
   "metadata": {},
   "outputs": [],
   "source": [
    "from scipy.stats import binom"
   ]
  },
  {
   "cell_type": "code",
   "execution_count": 6,
   "id": "be659e61",
   "metadata": {},
   "outputs": [
    {
     "data": {
      "text/plain": [
       "0.07463479852001963"
      ]
     },
     "execution_count": 6,
     "metadata": {},
     "output_type": "execute_result"
    }
   ],
   "source": [
    "binom.pmf(2,10,0.05)"
   ]
  },
  {
   "cell_type": "code",
   "execution_count": 18,
   "id": "37ceb0ba",
   "metadata": {},
   "outputs": [
    {
     "data": {
      "text/plain": [
       "0.9991510463899407"
      ]
     },
     "execution_count": 18,
     "metadata": {},
     "output_type": "execute_result"
    }
   ],
   "source": [
    "1-binom.cdf(10,90,0.25)"
   ]
  },
  {
   "cell_type": "code",
   "execution_count": 13,
   "id": "755ea949",
   "metadata": {},
   "outputs": [
    {
     "data": {
      "text/plain": [
       "(0.06680094289054267, 0.0820849986238988)"
      ]
     },
     "execution_count": 13,
     "metadata": {},
     "output_type": "execute_result"
    }
   ],
   "source": [
    "from scipy.stats import poisson\n",
    "poisson.pmf(5,2.5),poisson.pmf(0,2.5)"
   ]
  },
  {
   "cell_type": "code",
   "execution_count": 14,
   "id": "4e16013e",
   "metadata": {},
   "outputs": [
    {
     "data": {
      "text/plain": [
       "0.9831701582510425"
      ]
     },
     "execution_count": 14,
     "metadata": {},
     "output_type": "execute_result"
    }
   ],
   "source": [
    "poisson.cdf(7,3.2)#less than 7"
   ]
  },
  {
   "cell_type": "code",
   "execution_count": 15,
   "id": "0bcab917",
   "metadata": {},
   "outputs": [],
   "source": [
    "prob_more_than_7=1-(poisson.cdf(7,3.2))"
   ]
  },
  {
   "cell_type": "code",
   "execution_count": 16,
   "id": "85407177",
   "metadata": {},
   "outputs": [
    {
     "data": {
      "text/plain": [
       "0.01682984174895752"
      ]
     },
     "execution_count": 16,
     "metadata": {},
     "output_type": "execute_result"
    }
   ],
   "source": [
    "prob_more_than_7"
   ]
  },
  {
   "cell_type": "code",
   "execution_count": 22,
   "id": "0bcc9191",
   "metadata": {},
   "outputs": [
    {
     "data": {
      "text/plain": [
       "0.9754901960784306"
      ]
     },
     "execution_count": 22,
     "metadata": {},
     "output_type": "execute_result"
    }
   ],
   "source": [
    "from scipy.stats import hypergeom\n",
    "hypergeom.sf(0,18,3,12)#1 or more"
   ]
  },
  {
   "cell_type": "code",
   "execution_count": 23,
   "id": "e4489bd1",
   "metadata": {},
   "outputs": [
    {
     "data": {
      "text/plain": [
       "0.04738562091503275"
      ]
     },
     "execution_count": 23,
     "metadata": {},
     "output_type": "execute_result"
    }
   ],
   "source": [
    "hypergeom.cdf(1,18,5,11)#1 or fewer"
   ]
  },
  {
   "cell_type": "code",
   "execution_count": 24,
   "id": "483505f5",
   "metadata": {},
   "outputs": [
    {
     "data": {
      "text/plain": [
       "0.6447736190750485"
      ]
     },
     "execution_count": 24,
     "metadata": {},
     "output_type": "execute_result"
    }
   ],
   "source": [
    "from scipy.stats import expon\n",
    "expon.cdf(0.75,0,(1/1.38))#1.38 is mean of poisson ,so mean of exponent is inverse of poisson"
   ]
  },
  {
   "cell_type": "code",
   "execution_count": 28,
   "id": "1b2d21a6",
   "metadata": {},
   "outputs": [
    {
     "data": {
      "text/plain": [
       "array([27, 28, 29, 30, 31, 32, 33, 34, 35, 36, 37, 38, 39])"
      ]
     },
     "execution_count": 28,
     "metadata": {},
     "output_type": "execute_result"
    }
   ],
   "source": [
    "u=np.arange(27,40,1)\n",
    "u"
   ]
  },
  {
   "cell_type": "code",
   "execution_count": 29,
   "id": "54ba7a08",
   "metadata": {},
   "outputs": [
    {
     "data": {
      "text/plain": [
       "33.0"
      ]
     },
     "execution_count": 29,
     "metadata": {},
     "output_type": "execute_result"
    }
   ],
   "source": [
    "from scipy.stats import uniform\n",
    "uniform.mean(loc=27,scale=12)#27+12=39\n"
   ]
  },
  {
   "cell_type": "code",
   "execution_count": 31,
   "id": "3a9dd0fc",
   "metadata": {},
   "outputs": [
    {
     "data": {
      "text/plain": [
       "array([0.25      , 0.33333333, 0.41666667, 0.5       , 0.58333333,\n",
       "       0.66666667])"
      ]
     },
     "execution_count": 31,
     "metadata": {},
     "output_type": "execute_result"
    }
   ],
   "source": [
    "uniform.cdf(np.arange(30,36,1),loc=27,scale=12)"
   ]
  },
  {
   "cell_type": "code",
   "execution_count": 32,
   "id": "f4822531",
   "metadata": {},
   "outputs": [
    {
     "data": {
      "text/plain": [
       "0.41666667"
      ]
     },
     "execution_count": 32,
     "metadata": {},
     "output_type": "execute_result"
    }
   ],
   "source": [
    "prob=0.66666667-0.25\n",
    "prob"
   ]
  },
  {
   "cell_type": "code",
   "execution_count": null,
   "id": "c48e9da3",
   "metadata": {},
   "outputs": [],
   "source": []
  }
 ],
 "metadata": {
  "kernelspec": {
   "display_name": "Python 3 (ipykernel)",
   "language": "python",
   "name": "python3"
  },
  "language_info": {
   "codemirror_mode": {
    "name": "ipython",
    "version": 3
   },
   "file_extension": ".py",
   "mimetype": "text/x-python",
   "name": "python",
   "nbconvert_exporter": "python",
   "pygments_lexer": "ipython3",
   "version": "3.9.7"
  }
 },
 "nbformat": 4,
 "nbformat_minor": 5
}
